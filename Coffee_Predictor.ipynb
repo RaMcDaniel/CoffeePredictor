{
 "cells": [
  {
   "cell_type": "code",
   "execution_count": 2,
   "id": "282cf977",
   "metadata": {},
   "outputs": [],
   "source": [
    "import pandas as pd\n",
    "import numpy as np\n",
    "import matplotlib.pyplot as plt\n",
    "import sklearn"
   ]
  },
  {
   "cell_type": "code",
   "execution_count": 29,
   "id": "3d033a2e",
   "metadata": {},
   "outputs": [],
   "source": [
    "df = pd.read_csv(\"arabica_data_cleaned_filtered.csv\")"
   ]
  },
  {
   "cell_type": "markdown",
   "id": "d642c484",
   "metadata": {},
   "source": [
    "## The following table shows the first five rows of coffee data ##"
   ]
  },
  {
   "cell_type": "code",
   "execution_count": 30,
   "id": "81a4ff60",
   "metadata": {},
   "outputs": [
    {
     "data": {
      "text/html": [
       "<div>\n",
       "<style scoped>\n",
       "    .dataframe tbody tr th:only-of-type {\n",
       "        vertical-align: middle;\n",
       "    }\n",
       "\n",
       "    .dataframe tbody tr th {\n",
       "        vertical-align: top;\n",
       "    }\n",
       "\n",
       "    .dataframe thead th {\n",
       "        text-align: right;\n",
       "    }\n",
       "</style>\n",
       "<table border=\"1\" class=\"dataframe\">\n",
       "  <thead>\n",
       "    <tr style=\"text-align: right;\">\n",
       "      <th></th>\n",
       "      <th>Unnamed: 0</th>\n",
       "      <th>Country_of_Origin</th>\n",
       "      <th>Region</th>\n",
       "      <th>Owner_1</th>\n",
       "      <th>Variety</th>\n",
       "      <th>Aroma</th>\n",
       "      <th>Flavor</th>\n",
       "      <th>Aftertaste</th>\n",
       "      <th>Acidity</th>\n",
       "      <th>Body</th>\n",
       "      <th>Balance</th>\n",
       "      <th>Uniformity</th>\n",
       "      <th>Clean.Cup</th>\n",
       "      <th>Sweetness</th>\n",
       "      <th>Total_Cup_Points</th>\n",
       "    </tr>\n",
       "  </thead>\n",
       "  <tbody>\n",
       "    <tr>\n",
       "      <th>0</th>\n",
       "      <td>1</td>\n",
       "      <td>Ethiopia</td>\n",
       "      <td>guji-hambela</td>\n",
       "      <td>metad plc</td>\n",
       "      <td>NaN</td>\n",
       "      <td>8.67</td>\n",
       "      <td>8.83</td>\n",
       "      <td>8.67</td>\n",
       "      <td>8.75</td>\n",
       "      <td>8.50</td>\n",
       "      <td>8.42</td>\n",
       "      <td>10.00</td>\n",
       "      <td>10.0</td>\n",
       "      <td>10.00</td>\n",
       "      <td>90.58</td>\n",
       "    </tr>\n",
       "    <tr>\n",
       "      <th>1</th>\n",
       "      <td>2</td>\n",
       "      <td>Ethiopia</td>\n",
       "      <td>guji-hambela</td>\n",
       "      <td>metad plc</td>\n",
       "      <td>Other</td>\n",
       "      <td>8.75</td>\n",
       "      <td>8.67</td>\n",
       "      <td>8.50</td>\n",
       "      <td>8.58</td>\n",
       "      <td>8.42</td>\n",
       "      <td>8.42</td>\n",
       "      <td>10.00</td>\n",
       "      <td>10.0</td>\n",
       "      <td>10.00</td>\n",
       "      <td>89.92</td>\n",
       "    </tr>\n",
       "    <tr>\n",
       "      <th>2</th>\n",
       "      <td>3</td>\n",
       "      <td>Guatemala</td>\n",
       "      <td>NaN</td>\n",
       "      <td>Grounds for Health Admin</td>\n",
       "      <td>Bourbon</td>\n",
       "      <td>8.42</td>\n",
       "      <td>8.50</td>\n",
       "      <td>8.42</td>\n",
       "      <td>8.42</td>\n",
       "      <td>8.33</td>\n",
       "      <td>8.42</td>\n",
       "      <td>10.00</td>\n",
       "      <td>10.0</td>\n",
       "      <td>10.00</td>\n",
       "      <td>89.75</td>\n",
       "    </tr>\n",
       "    <tr>\n",
       "      <th>3</th>\n",
       "      <td>4</td>\n",
       "      <td>Ethiopia</td>\n",
       "      <td>oromia</td>\n",
       "      <td>Yidnekachew Dabessa</td>\n",
       "      <td>NaN</td>\n",
       "      <td>8.17</td>\n",
       "      <td>8.58</td>\n",
       "      <td>8.42</td>\n",
       "      <td>8.42</td>\n",
       "      <td>8.50</td>\n",
       "      <td>8.25</td>\n",
       "      <td>10.00</td>\n",
       "      <td>10.0</td>\n",
       "      <td>10.00</td>\n",
       "      <td>89.00</td>\n",
       "    </tr>\n",
       "    <tr>\n",
       "      <th>4</th>\n",
       "      <td>5</td>\n",
       "      <td>Ethiopia</td>\n",
       "      <td>guji-hambela</td>\n",
       "      <td>metad plc</td>\n",
       "      <td>Other</td>\n",
       "      <td>8.25</td>\n",
       "      <td>8.50</td>\n",
       "      <td>8.25</td>\n",
       "      <td>8.50</td>\n",
       "      <td>8.42</td>\n",
       "      <td>8.33</td>\n",
       "      <td>10.00</td>\n",
       "      <td>10.0</td>\n",
       "      <td>10.00</td>\n",
       "      <td>88.83</td>\n",
       "    </tr>\n",
       "    <tr>\n",
       "      <th>5</th>\n",
       "      <td>6</td>\n",
       "      <td>Brazil</td>\n",
       "      <td>NaN</td>\n",
       "      <td>Ji-Ae Ahn</td>\n",
       "      <td>NaN</td>\n",
       "      <td>8.58</td>\n",
       "      <td>8.42</td>\n",
       "      <td>8.42</td>\n",
       "      <td>8.50</td>\n",
       "      <td>8.25</td>\n",
       "      <td>8.33</td>\n",
       "      <td>10.00</td>\n",
       "      <td>10.0</td>\n",
       "      <td>10.00</td>\n",
       "      <td>88.83</td>\n",
       "    </tr>\n",
       "    <tr>\n",
       "      <th>6</th>\n",
       "      <td>7</td>\n",
       "      <td>Peru</td>\n",
       "      <td>NaN</td>\n",
       "      <td>Hugo Valdivia</td>\n",
       "      <td>Other</td>\n",
       "      <td>8.42</td>\n",
       "      <td>8.50</td>\n",
       "      <td>8.33</td>\n",
       "      <td>8.50</td>\n",
       "      <td>8.25</td>\n",
       "      <td>8.25</td>\n",
       "      <td>10.00</td>\n",
       "      <td>10.0</td>\n",
       "      <td>10.00</td>\n",
       "      <td>88.75</td>\n",
       "    </tr>\n",
       "    <tr>\n",
       "      <th>7</th>\n",
       "      <td>8</td>\n",
       "      <td>Ethiopia</td>\n",
       "      <td>oromia</td>\n",
       "      <td>Ethiopia Commodity Exchange</td>\n",
       "      <td>NaN</td>\n",
       "      <td>8.25</td>\n",
       "      <td>8.33</td>\n",
       "      <td>8.50</td>\n",
       "      <td>8.42</td>\n",
       "      <td>8.33</td>\n",
       "      <td>8.50</td>\n",
       "      <td>10.00</td>\n",
       "      <td>10.0</td>\n",
       "      <td>9.33</td>\n",
       "      <td>88.67</td>\n",
       "    </tr>\n",
       "    <tr>\n",
       "      <th>8</th>\n",
       "      <td>9</td>\n",
       "      <td>Ethiopia</td>\n",
       "      <td>oromiya</td>\n",
       "      <td>Ethiopia Commodity Exchange</td>\n",
       "      <td>NaN</td>\n",
       "      <td>8.67</td>\n",
       "      <td>8.67</td>\n",
       "      <td>8.58</td>\n",
       "      <td>8.42</td>\n",
       "      <td>8.33</td>\n",
       "      <td>8.42</td>\n",
       "      <td>9.33</td>\n",
       "      <td>10.0</td>\n",
       "      <td>9.33</td>\n",
       "      <td>88.42</td>\n",
       "    </tr>\n",
       "    <tr>\n",
       "      <th>9</th>\n",
       "      <td>10</td>\n",
       "      <td>Ethiopia</td>\n",
       "      <td>snnp/kaffa zone,gimbowereda</td>\n",
       "      <td>Diamond Enterprise Plc</td>\n",
       "      <td>Other</td>\n",
       "      <td>8.08</td>\n",
       "      <td>8.58</td>\n",
       "      <td>8.50</td>\n",
       "      <td>8.50</td>\n",
       "      <td>7.67</td>\n",
       "      <td>8.42</td>\n",
       "      <td>10.00</td>\n",
       "      <td>10.0</td>\n",
       "      <td>10.00</td>\n",
       "      <td>88.25</td>\n",
       "    </tr>\n",
       "  </tbody>\n",
       "</table>\n",
       "</div>"
      ],
      "text/plain": [
       "   Unnamed: 0 Country_of_Origin                       Region  \\\n",
       "0           1          Ethiopia                 guji-hambela   \n",
       "1           2          Ethiopia                 guji-hambela   \n",
       "2           3         Guatemala                          NaN   \n",
       "3           4          Ethiopia                       oromia   \n",
       "4           5          Ethiopia                 guji-hambela   \n",
       "5           6            Brazil                          NaN   \n",
       "6           7              Peru                          NaN   \n",
       "7           8          Ethiopia                       oromia   \n",
       "8           9          Ethiopia                      oromiya   \n",
       "9          10          Ethiopia  snnp/kaffa zone,gimbowereda   \n",
       "\n",
       "                       Owner_1  Variety  Aroma  Flavor  Aftertaste  Acidity  \\\n",
       "0                    metad plc      NaN   8.67    8.83        8.67     8.75   \n",
       "1                    metad plc    Other   8.75    8.67        8.50     8.58   \n",
       "2     Grounds for Health Admin  Bourbon   8.42    8.50        8.42     8.42   \n",
       "3          Yidnekachew Dabessa      NaN   8.17    8.58        8.42     8.42   \n",
       "4                    metad plc    Other   8.25    8.50        8.25     8.50   \n",
       "5                    Ji-Ae Ahn      NaN   8.58    8.42        8.42     8.50   \n",
       "6                Hugo Valdivia    Other   8.42    8.50        8.33     8.50   \n",
       "7  Ethiopia Commodity Exchange      NaN   8.25    8.33        8.50     8.42   \n",
       "8  Ethiopia Commodity Exchange      NaN   8.67    8.67        8.58     8.42   \n",
       "9       Diamond Enterprise Plc    Other   8.08    8.58        8.50     8.50   \n",
       "\n",
       "   Body  Balance  Uniformity  Clean.Cup  Sweetness  Total_Cup_Points  \n",
       "0  8.50     8.42       10.00       10.0      10.00             90.58  \n",
       "1  8.42     8.42       10.00       10.0      10.00             89.92  \n",
       "2  8.33     8.42       10.00       10.0      10.00             89.75  \n",
       "3  8.50     8.25       10.00       10.0      10.00             89.00  \n",
       "4  8.42     8.33       10.00       10.0      10.00             88.83  \n",
       "5  8.25     8.33       10.00       10.0      10.00             88.83  \n",
       "6  8.25     8.25       10.00       10.0      10.00             88.75  \n",
       "7  8.33     8.50       10.00       10.0       9.33             88.67  \n",
       "8  8.33     8.42        9.33       10.0       9.33             88.42  \n",
       "9  7.67     8.42       10.00       10.0      10.00             88.25  "
      ]
     },
     "execution_count": 30,
     "metadata": {},
     "output_type": "execute_result"
    }
   ],
   "source": [
    "df.head(10)"
   ]
  },
  {
   "cell_type": "code",
   "execution_count": 27,
   "id": "a0f1c3ce",
   "metadata": {},
   "outputs": [
    {
     "data": {
      "text/plain": [
       "<AxesSubplot:>"
      ]
     },
     "execution_count": 27,
     "metadata": {},
     "output_type": "execute_result"
    },
    {
     "data": {
      "image/png": "[encoded data removed]",
      "text/plain": [
       "<Figure size 432x288 with 1 Axes>"
      ]
     },
     "metadata": {
      "needs_background": "light"
     },
     "output_type": "display_data"
    }
   ],
   "source": [
    "df.Country_of_Origin.value_counts().plot(kind=\"bar\")"
   ]
  },
  {
   "cell_type": "code",
   "execution_count": 32,
   "id": "a6e1fb60",
   "metadata": {},
   "outputs": [
    {
     "data": {
      "text/plain": [
       "<AxesSubplot:>"
      ]
     },
     "execution_count": 32,
     "metadata": {},
     "output_type": "execute_result"
    },
    {
     "data": {
      "image/png": "[encoded data removed]",
      "text/plain": [
       "<Figure size 432x288 with 1 Axes>"
      ]
     },
     "metadata": {
      "needs_background": "light"
     },
     "output_type": "display_data"
    }
   ],
   "source": [
    "df.Variety.value_counts().plot(kind=\"bar\")"
   ]
  },
  {
   "cell_type": "markdown",
   "id": "0b452afd",
   "metadata": {},
   "source": [
    " <img src=\"coffee_image.png\" width=\"800\">"
   ]
  },
  {
   "cell_type": "code",
   "execution_count": null,
   "id": "373dff70",
   "metadata": {},
   "outputs": [],
   "source": []
  }
 ],
 "metadata": {
  "kernelspec": {
   "display_name": "Python 3 (ipykernel)",
   "language": "python",
   "name": "python3"
  },
  "language_info": {
   "codemirror_mode": {
    "name": "ipython",
    "version": 3
   },
   "file_extension": ".py",
   "mimetype": "text/x-python",
   "name": "python",
   "nbconvert_exporter": "python",
   "pygments_lexer": "ipython3",
   "version": "3.9.7"
  }
 },
 "nbformat": 4,
 "nbformat_minor": 5
}
