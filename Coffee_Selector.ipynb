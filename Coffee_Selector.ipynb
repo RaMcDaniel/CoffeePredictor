{
 "cells": [
  {
   "cell_type": "markdown",
   "id": "a8292c44",
   "metadata": {},
   "source": [
    "<p style=\"text-align: center; font-weight: bold; font-size:xx-large;\">Coffee Selector</p>"
   ]
  },
  {
   "cell_type": "markdown",
   "id": "3bf5f44e",
   "metadata": {},
   "source": [
    "<img src=\"Images/coffee_image1.PNG\" />"
   ]
  },
  {
   "cell_type": "markdown",
   "id": "a073c78b",
   "metadata": {},
   "source": [
    "<p style=\"text-align: center; font-weight: bold; font-size:large;\">Do you ever wonder the significance of all those regions printed on bags of coffee?</p>"
   ]
  },
  {
   "cell_type": "markdown",
   "id": "038ef8e0",
   "metadata": {},
   "source": [
    "<p style=\"text-align: center; font-weight: bold; font-size:medium;\">Maybe you crave a particularly bold coffee, or prefer low acidity. Could there be a region that suits your unique tastes?</p>  "
   ]
  },
  {
   "cell_type": "code",
   "execution_count": 7,
   "id": "3bfbcfb2",
   "metadata": {
    "tags": [
     "\"hide-input\""
    ]
   },
   "outputs": [],
   "source": [
    "import pandas as pd\n",
    "import numpy as np\n",
    "%matplotlib inline\n",
    "import matplotlib.pyplot as plt\n",
    "import sklearn\n",
    "import ipywidgets as widgets\n",
    "from ipywidgets import interact, interact_manual"
   ]
  },
  {
   "cell_type": "code",
   "execution_count": 3,
   "id": "9cd82df2",
   "metadata": {
    "tags": [
     "\"hide-input\""
    ]
   },
   "outputs": [],
   "source": [
    "df = pd.read_csv(\"arabica_data_cleaned_filtered.csv\")"
   ]
  },
  {
   "cell_type": "code",
   "execution_count": 8,
   "id": "8de28f04",
   "metadata": {},
   "outputs": [],
   "source": [
    "aspects = [\"aroma\", \"flavor\", \"aftertaste\", \"acidity\", \"body\", \"balance\", \"uniformity\" \"clean_cup\", \"sweetness\", \"total_points\"]"
   ]
  },
  {
   "cell_type": "code",
   "execution_count": null,
   "id": "e674ddae",
   "metadata": {},
   "outputs": [],
   "source": []
  }
 ],
 "metadata": {
  "celltoolbar": "Tags",
  "kernelspec": {
   "display_name": "Python 3 (ipykernel)",
   "language": "python",
   "name": "python3"
  },
  "language_info": {
   "codemirror_mode": {
    "name": "ipython",
    "version": 3
   },
   "file_extension": ".py",
   "mimetype": "text/x-python",
   "name": "python",
   "nbconvert_exporter": "python",
   "pygments_lexer": "ipython3",
   "version": "3.9.7"
  }
 },
 "nbformat": 4,
 "nbformat_minor": 5
}
