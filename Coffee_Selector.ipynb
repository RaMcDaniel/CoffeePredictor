{
 "cells": [
  {
   "cell_type": "markdown",
   "id": "bbf6b61f",
   "metadata": {},
   "source": [
    "<p style=\"text-align: center; font-weight: bold; font-size:xxx-large; color:green; background-color:#D3EAB9;\">Coffee</p>"
   ]
  },
  {
   "cell_type": "markdown",
   "id": "dd996216",
   "metadata": {},
   "source": [
    "<img src=\"Images/coffee_image1.PNG\" />"
   ]
  },
  {
   "cell_type": "markdown",
   "id": "a5074926",
   "metadata": {},
   "source": [
    "<p style=\"text-align: center; font-weight: bold; font-size:x-large; color:green; background-color:#D3EAB9;\">Do you ever wonder the significance of all those regions and types printed on bags of coffee?</p>"
   ]
  },
  {
   "cell_type": "markdown",
   "id": "8926d8c9",
   "metadata": {},
   "source": [
    "<p style=\"text-align: center; font-weight: bold; font-size:large; color:green; background-color:#D3EAB9;\">Do any of them truly indicate superior coffee?</p>  "
   ]
  },
  {
   "cell_type": "code",
   "execution_count": 119,
   "id": "cabb55cf",
   "metadata": {},
   "outputs": [],
   "source": [
    "import pandas as pd\n",
    "import numpy as np\n",
    "%matplotlib inline\n",
    "import matplotlib.pyplot as plt\n",
    "import sklearn\n",
    "import seaborn as sns\n",
    "sns.set_theme(style='darkgrid')\n",
    "import ipywidgets as widgets\n",
    "from ipywidgets import interact, interact_manual"
   ]
  },
  {
   "cell_type": "code",
   "execution_count": 96,
   "id": "1fd6d4a8",
   "metadata": {},
   "outputs": [],
   "source": [
    "df = pd.read_csv(\"coffee_region_variety_totals\")"
   ]
  },
  {
   "cell_type": "code",
   "execution_count": 163,
   "id": "3f6e1d82",
   "metadata": {},
   "outputs": [],
   "source": [
    "df['Outstanding'] = df['Total_Cup_Points'].astype('int64') # a new column created that will indicate if \"Outstanding\" or not\n",
    "df.loc[df[\"Outstanding\"]<85, [\"Outstanding\"]]=0 # A \"0\" indicates not \"Outstanding\"\n",
    "df.loc[df[\"Outstanding\"]>=85, [\"Outstanding\"]]=1 # A \"1\" indicates \"Outstanding\""
   ]
  },
  {
   "cell_type": "code",
   "execution_count": 165,
   "id": "d2d4c4d9",
   "metadata": {},
   "outputs": [
    {
     "data": {
      "text/html": [
       "<div>\n",
       "<style scoped>\n",
       "    .dataframe tbody tr th:only-of-type {\n",
       "        vertical-align: middle;\n",
       "    }\n",
       "\n",
       "    .dataframe tbody tr th {\n",
       "        vertical-align: top;\n",
       "    }\n",
       "\n",
       "    .dataframe thead th {\n",
       "        text-align: right;\n",
       "    }\n",
       "</style>\n",
       "<table border=\"1\" class=\"dataframe\">\n",
       "  <thead>\n",
       "    <tr style=\"text-align: right;\">\n",
       "      <th></th>\n",
       "      <th>Country_of_Origin</th>\n",
       "      <th>Region</th>\n",
       "      <th>Variety</th>\n",
       "      <th>Total_Cup_Points</th>\n",
       "      <th>Outstanding</th>\n",
       "    </tr>\n",
       "  </thead>\n",
       "  <tbody>\n",
       "    <tr>\n",
       "      <th>1300</th>\n",
       "      <td>Mexico</td>\n",
       "      <td>sierra norte yajalon, chiapas</td>\n",
       "      <td>Typica</td>\n",
       "      <td>70.75</td>\n",
       "      <td>0</td>\n",
       "    </tr>\n",
       "    <tr>\n",
       "      <th>1301</th>\n",
       "      <td>Brazil</td>\n",
       "      <td>cerrado</td>\n",
       "      <td>unknown_variety</td>\n",
       "      <td>70.67</td>\n",
       "      <td>0</td>\n",
       "    </tr>\n",
       "    <tr>\n",
       "      <th>1302</th>\n",
       "      <td>Honduras</td>\n",
       "      <td>marcala</td>\n",
       "      <td>Catuai</td>\n",
       "      <td>69.33</td>\n",
       "      <td>0</td>\n",
       "    </tr>\n",
       "    <tr>\n",
       "      <th>1303</th>\n",
       "      <td>Honduras</td>\n",
       "      <td>marcala</td>\n",
       "      <td>Catuai</td>\n",
       "      <td>69.17</td>\n",
       "      <td>0</td>\n",
       "    </tr>\n",
       "    <tr>\n",
       "      <th>1304</th>\n",
       "      <td>Honduras</td>\n",
       "      <td>marcala</td>\n",
       "      <td>Catuai</td>\n",
       "      <td>69.17</td>\n",
       "      <td>0</td>\n",
       "    </tr>\n",
       "    <tr>\n",
       "      <th>1305</th>\n",
       "      <td>Mexico</td>\n",
       "      <td>juchique de ferrer</td>\n",
       "      <td>Bourbon</td>\n",
       "      <td>68.33</td>\n",
       "      <td>0</td>\n",
       "    </tr>\n",
       "    <tr>\n",
       "      <th>1306</th>\n",
       "      <td>Haiti</td>\n",
       "      <td>department d'artibonite , haiti</td>\n",
       "      <td>Typica</td>\n",
       "      <td>67.92</td>\n",
       "      <td>0</td>\n",
       "    </tr>\n",
       "    <tr>\n",
       "      <th>1307</th>\n",
       "      <td>Nicaragua</td>\n",
       "      <td>jalapa</td>\n",
       "      <td>Caturra</td>\n",
       "      <td>63.08</td>\n",
       "      <td>0</td>\n",
       "    </tr>\n",
       "    <tr>\n",
       "      <th>1308</th>\n",
       "      <td>Guatemala</td>\n",
       "      <td>nuevo oriente</td>\n",
       "      <td>Catuai</td>\n",
       "      <td>59.83</td>\n",
       "      <td>0</td>\n",
       "    </tr>\n",
       "    <tr>\n",
       "      <th>1309</th>\n",
       "      <td>Honduras</td>\n",
       "      <td>comayagua</td>\n",
       "      <td>Caturra</td>\n",
       "      <td>0.00</td>\n",
       "      <td>0</td>\n",
       "    </tr>\n",
       "  </tbody>\n",
       "</table>\n",
       "</div>"
      ],
      "text/plain": [
       "     Country_of_Origin                           Region          Variety  \\\n",
       "1300            Mexico    sierra norte yajalon, chiapas           Typica   \n",
       "1301            Brazil                          cerrado  unknown_variety   \n",
       "1302          Honduras                          marcala           Catuai   \n",
       "1303          Honduras                          marcala           Catuai   \n",
       "1304          Honduras                          marcala           Catuai   \n",
       "1305            Mexico               juchique de ferrer          Bourbon   \n",
       "1306             Haiti  department d'artibonite , haiti           Typica   \n",
       "1307         Nicaragua                           jalapa          Caturra   \n",
       "1308         Guatemala                    nuevo oriente           Catuai   \n",
       "1309          Honduras                        comayagua          Caturra   \n",
       "\n",
       "      Total_Cup_Points  Outstanding  \n",
       "1300             70.75            0  \n",
       "1301             70.67            0  \n",
       "1302             69.33            0  \n",
       "1303             69.17            0  \n",
       "1304             69.17            0  \n",
       "1305             68.33            0  \n",
       "1306             67.92            0  \n",
       "1307             63.08            0  \n",
       "1308             59.83            0  \n",
       "1309              0.00            0  "
      ]
     },
     "execution_count": 165,
     "metadata": {},
     "output_type": "execute_result"
    }
   ],
   "source": [
    "df.tail(10)"
   ]
  },
  {
   "cell_type": "code",
   "execution_count": 166,
   "id": "8575b831",
   "metadata": {},
   "outputs": [],
   "source": [
    "df_shuffled = df.sample(frac=1) #this shuffled data set will be split into test and training data\n",
    "df_train = df_shuffled.head(1114); #1114 is 85% of the dataset\n",
    "df_test = df_shuffled.tail(196);"
   ]
  },
  {
   "cell_type": "code",
   "execution_count": 154,
   "id": "b71df5df",
   "metadata": {},
   "outputs": [],
   "source": [
    "aspects = [\"aroma\", \"flavor\", \"aftertaste\", \"acidity\", \"body\", \"balance\", \"uniformity\", \"clean_cup\", \"sweetness\"]"
   ]
  },
  {
   "cell_type": "markdown",
   "id": "a63b769e",
   "metadata": {},
   "source": [
    "<p style=\"text-align: center; font-weight: bold; font-size:x-large; color:green; background-color:#D3EAB9;\">The Coffee Quality Institue (https://www.coffeeinstitute.org/) measures these attributes to calculate a total quality score.</p>"
   ]
  },
  {
   "cell_type": "code",
   "execution_count": 188,
   "id": "96c93f9a",
   "metadata": {
    "scrolled": true
   },
   "outputs": [
    {
     "data": {
      "image/png": "[encoded data removed]",
      "text/plain": [
       "<Figure size 432x288 with 1 Axes>"
      ]
     },
     "metadata": {},
     "output_type": "display_data"
    }
   ],
   "source": [
    "g = [1, 1, 1, 1, 1, 1, 1, 1, 1]\n",
    "colors = sns.color_palette('muted')[0:9]\n",
    "fig, ax = plt.subplots()\n",
    "ax.pie(g, labels = aspects, colors=colors);"
   ]
  },
  {
   "cell_type": "markdown",
   "id": "15e0c5dd",
   "metadata": {},
   "source": [
    "<p style=\"text-align: center; font-weight: bold; font-size:x-large; color:green; background-color:#D3EAB9;\">Here are the countries represented in the database:</p>"
   ]
  },
  {
   "cell_type": "code",
   "execution_count": 180,
   "id": "9b4f17b3",
   "metadata": {},
   "outputs": [
    {
     "data": {
      "image/png": "[encoded data removed]",
      "text/plain": [
       "<Figure size 1080x360 with 1 Axes>"
      ]
     },
     "metadata": {
      "needs_background": "light"
     },
     "output_type": "display_data"
    }
   ],
   "source": [
    "plt.figure(figsize=[15, 5])\n",
    "plt.subplot(111)\n",
    "sns.countplot(x='Country_of_Origin', data=df)\n",
    "plt.xticks(rotation=90);\n",
    "#fig, ax = plt.subplots()\n",
    "#fig.set_size_inches(15, 5)\n",
    "#df.Country_of_Origin.value_counts().plot(kind=\"bar\", color = '#5D4037', title = 'Countries Where Coffee is Grown', \n",
    "#                                         ylabel = '# of coffees in database');"
   ]
  },
  {
   "cell_type": "markdown",
   "id": "f8e6c295",
   "metadata": {},
   "source": [
    "<p style=\"text-align: center; font-weight: bold; font-size:x-large; color:green; background-color:#D3EAB9;\">The 40 most represented regions within those countries:</p>"
   ]
  },
  {
   "cell_type": "code",
   "execution_count": 168,
   "id": "0a116bca",
   "metadata": {},
   "outputs": [
    {
     "data": {
      "image/png": "[encoded data removed]",
      "text/plain": [
       "<Figure size 1080x360 with 1 Axes>"
      ]
     },
     "metadata": {
      "needs_background": "light"
     },
     "output_type": "display_data"
    }
   ],
   "source": [
    "fig, ax = plt.subplots()\n",
    "fig.set_size_inches(15, 5)\n",
    "df.Region.value_counts().head(40).plot(kind=\"bar\", color = '#5D4037', title = 'Regions Where Coffee is Grown', \n",
    "                                       ylabel = '# of coffees in database');"
   ]
  },
  {
   "cell_type": "markdown",
   "id": "7baa6ca6",
   "metadata": {},
   "source": [
    "<p style=\"text-align: center; font-weight: bold; font-size:x-large; color:green; background-color:#D3EAB9;\">And these are the varieties grown:</p>"
   ]
  },
  {
   "cell_type": "code",
   "execution_count": 169,
   "id": "11be8d53",
   "metadata": {},
   "outputs": [
    {
     "data": {
      "image/png": "[encoded data removed]",
      "text/plain": [
       "<Figure size 1080x360 with 1 Axes>"
      ]
     },
     "metadata": {
      "needs_background": "light"
     },
     "output_type": "display_data"
    }
   ],
   "source": [
    "fig, ax = plt.subplots()\n",
    "fig.set_size_inches(15, 5)\n",
    "df.Variety.value_counts().head(40).plot(kind=\"bar\", color = '#5D4037', title = 'Coffee Varities', \n",
    "                                        ylabel = '# of coffees in database');"
   ]
  },
  {
   "cell_type": "markdown",
   "id": "c5c81df4",
   "metadata": {},
   "source": [
    "<p style=\"text-align: center; font-weight: bold; font-size:x-large; color:green; background-color:#D3EAB9;\">A coffee is considered \"outstanding\" if it scores a total of 85 or higher. This is roughly 10% of coffes tested, like getting an \"A\" grade in quality.</p>"
   ]
  },
  {
   "cell_type": "code",
   "execution_count": 170,
   "id": "c9833209",
   "metadata": {},
   "outputs": [
    {
     "data": {
      "text/html": [
       "<div>\n",
       "<style scoped>\n",
       "    .dataframe tbody tr th:only-of-type {\n",
       "        vertical-align: middle;\n",
       "    }\n",
       "\n",
       "    .dataframe tbody tr th {\n",
       "        vertical-align: top;\n",
       "    }\n",
       "\n",
       "    .dataframe thead th {\n",
       "        text-align: right;\n",
       "    }\n",
       "</style>\n",
       "<table border=\"1\" class=\"dataframe\">\n",
       "  <thead>\n",
       "    <tr style=\"text-align: right;\">\n",
       "      <th></th>\n",
       "      <th>Country_of_Origin</th>\n",
       "      <th>Region</th>\n",
       "      <th>Variety</th>\n",
       "      <th>Total_Cup_Points</th>\n",
       "      <th>Outstanding</th>\n",
       "    </tr>\n",
       "  </thead>\n",
       "  <tbody>\n",
       "    <tr>\n",
       "      <th>0</th>\n",
       "      <td>Ethiopia</td>\n",
       "      <td>guji-hambela</td>\n",
       "      <td>unknown_variety</td>\n",
       "      <td>90.58</td>\n",
       "      <td>1</td>\n",
       "    </tr>\n",
       "    <tr>\n",
       "      <th>1</th>\n",
       "      <td>Ethiopia</td>\n",
       "      <td>guji-hambela</td>\n",
       "      <td>Other</td>\n",
       "      <td>89.92</td>\n",
       "      <td>1</td>\n",
       "    </tr>\n",
       "    <tr>\n",
       "      <th>2</th>\n",
       "      <td>Guatemala</td>\n",
       "      <td>unknown_region</td>\n",
       "      <td>Bourbon</td>\n",
       "      <td>89.75</td>\n",
       "      <td>1</td>\n",
       "    </tr>\n",
       "    <tr>\n",
       "      <th>3</th>\n",
       "      <td>Ethiopia</td>\n",
       "      <td>oromia</td>\n",
       "      <td>unknown_variety</td>\n",
       "      <td>89.00</td>\n",
       "      <td>1</td>\n",
       "    </tr>\n",
       "    <tr>\n",
       "      <th>4</th>\n",
       "      <td>Ethiopia</td>\n",
       "      <td>guji-hambela</td>\n",
       "      <td>Other</td>\n",
       "      <td>88.83</td>\n",
       "      <td>1</td>\n",
       "    </tr>\n",
       "    <tr>\n",
       "      <th>...</th>\n",
       "      <td>...</td>\n",
       "      <td>...</td>\n",
       "      <td>...</td>\n",
       "      <td>...</td>\n",
       "      <td>...</td>\n",
       "    </tr>\n",
       "    <tr>\n",
       "      <th>101</th>\n",
       "      <td>Kenya</td>\n",
       "      <td>central kenya</td>\n",
       "      <td>SL34</td>\n",
       "      <td>85.00</td>\n",
       "      <td>1</td>\n",
       "    </tr>\n",
       "    <tr>\n",
       "      <th>102</th>\n",
       "      <td>Brazil</td>\n",
       "      <td>grama valley</td>\n",
       "      <td>Mundo Novo</td>\n",
       "      <td>85.00</td>\n",
       "      <td>1</td>\n",
       "    </tr>\n",
       "    <tr>\n",
       "      <th>103</th>\n",
       "      <td>Mexico</td>\n",
       "      <td>mexico</td>\n",
       "      <td>Pacamara</td>\n",
       "      <td>85.00</td>\n",
       "      <td>1</td>\n",
       "    </tr>\n",
       "    <tr>\n",
       "      <th>104</th>\n",
       "      <td>United States (Hawaii)</td>\n",
       "      <td>kona</td>\n",
       "      <td>unknown_variety</td>\n",
       "      <td>85.00</td>\n",
       "      <td>1</td>\n",
       "    </tr>\n",
       "    <tr>\n",
       "      <th>105</th>\n",
       "      <td>Guatemala</td>\n",
       "      <td>chuva, san marcos</td>\n",
       "      <td>unknown_variety</td>\n",
       "      <td>85.00</td>\n",
       "      <td>1</td>\n",
       "    </tr>\n",
       "  </tbody>\n",
       "</table>\n",
       "<p>106 rows × 5 columns</p>\n",
       "</div>"
      ],
      "text/plain": [
       "          Country_of_Origin             Region          Variety  \\\n",
       "0                  Ethiopia       guji-hambela  unknown_variety   \n",
       "1                  Ethiopia       guji-hambela            Other   \n",
       "2                 Guatemala     unknown_region          Bourbon   \n",
       "3                  Ethiopia             oromia  unknown_variety   \n",
       "4                  Ethiopia       guji-hambela            Other   \n",
       "..                      ...                ...              ...   \n",
       "101                   Kenya      central kenya             SL34   \n",
       "102                  Brazil       grama valley       Mundo Novo   \n",
       "103                  Mexico             mexico         Pacamara   \n",
       "104  United States (Hawaii)               kona  unknown_variety   \n",
       "105               Guatemala  chuva, san marcos  unknown_variety   \n",
       "\n",
       "     Total_Cup_Points  Outstanding  \n",
       "0               90.58            1  \n",
       "1               89.92            1  \n",
       "2               89.75            1  \n",
       "3               89.00            1  \n",
       "4               88.83            1  \n",
       "..                ...          ...  \n",
       "101             85.00            1  \n",
       "102             85.00            1  \n",
       "103             85.00            1  \n",
       "104             85.00            1  \n",
       "105             85.00            1  \n",
       "\n",
       "[106 rows x 5 columns]"
      ]
     },
     "execution_count": 170,
     "metadata": {},
     "output_type": "execute_result"
    }
   ],
   "source": [
    "df[df['Total_Cup_Points'] >= 85]"
   ]
  },
  {
   "cell_type": "code",
   "execution_count": 171,
   "id": "9985f70e",
   "metadata": {},
   "outputs": [
    {
     "data": {
      "text/html": [
       "<div>\n",
       "<style scoped>\n",
       "    .dataframe tbody tr th:only-of-type {\n",
       "        vertical-align: middle;\n",
       "    }\n",
       "\n",
       "    .dataframe tbody tr th {\n",
       "        vertical-align: top;\n",
       "    }\n",
       "\n",
       "    .dataframe thead th {\n",
       "        text-align: right;\n",
       "    }\n",
       "</style>\n",
       "<table border=\"1\" class=\"dataframe\">\n",
       "  <thead>\n",
       "    <tr style=\"text-align: right;\">\n",
       "      <th></th>\n",
       "      <th>Country_of_Origin</th>\n",
       "      <th>Region</th>\n",
       "      <th>Variety</th>\n",
       "      <th>Total_Cup_Points</th>\n",
       "      <th>Outstanding</th>\n",
       "    </tr>\n",
       "  </thead>\n",
       "  <tbody>\n",
       "    <tr>\n",
       "      <th>32</th>\n",
       "      <td>Brazil</td>\n",
       "      <td>vale da grama</td>\n",
       "      <td>Bourbon</td>\n",
       "      <td>86.42</td>\n",
       "      <td>1</td>\n",
       "    </tr>\n",
       "    <tr>\n",
       "      <th>841</th>\n",
       "      <td>Mexico</td>\n",
       "      <td>chiapas</td>\n",
       "      <td>Catuai</td>\n",
       "      <td>81.83</td>\n",
       "      <td>0</td>\n",
       "    </tr>\n",
       "    <tr>\n",
       "      <th>325</th>\n",
       "      <td>Colombia</td>\n",
       "      <td>huila</td>\n",
       "      <td>Caturra</td>\n",
       "      <td>83.67</td>\n",
       "      <td>0</td>\n",
       "    </tr>\n",
       "    <tr>\n",
       "      <th>1158</th>\n",
       "      <td>El Salvador</td>\n",
       "      <td>cacahuatique</td>\n",
       "      <td>Bourbon</td>\n",
       "      <td>79.67</td>\n",
       "      <td>0</td>\n",
       "    </tr>\n",
       "    <tr>\n",
       "      <th>644</th>\n",
       "      <td>Mexico</td>\n",
       "      <td>veracruz</td>\n",
       "      <td>unknown_variety</td>\n",
       "      <td>82.58</td>\n",
       "      <td>0</td>\n",
       "    </tr>\n",
       "    <tr>\n",
       "      <th>72</th>\n",
       "      <td>United States (Hawaii)</td>\n",
       "      <td>kona</td>\n",
       "      <td>Hawaiian Kona</td>\n",
       "      <td>85.42</td>\n",
       "      <td>1</td>\n",
       "    </tr>\n",
       "    <tr>\n",
       "      <th>1263</th>\n",
       "      <td>Guatemala</td>\n",
       "      <td>oriente</td>\n",
       "      <td>Bourbon</td>\n",
       "      <td>76.33</td>\n",
       "      <td>0</td>\n",
       "    </tr>\n",
       "    <tr>\n",
       "      <th>110</th>\n",
       "      <td>Colombia</td>\n",
       "      <td>huila</td>\n",
       "      <td>Caturra</td>\n",
       "      <td>84.92</td>\n",
       "      <td>0</td>\n",
       "    </tr>\n",
       "    <tr>\n",
       "      <th>385</th>\n",
       "      <td>Tanzania, United Republic Of</td>\n",
       "      <td>karatu northern</td>\n",
       "      <td>Bourbon</td>\n",
       "      <td>83.42</td>\n",
       "      <td>0</td>\n",
       "    </tr>\n",
       "    <tr>\n",
       "      <th>220</th>\n",
       "      <td>Ethiopia</td>\n",
       "      <td>snnprg; kafa; telo woreda; shada kebele</td>\n",
       "      <td>Gesha</td>\n",
       "      <td>84.17</td>\n",
       "      <td>0</td>\n",
       "    </tr>\n",
       "    <tr>\n",
       "      <th>877</th>\n",
       "      <td>Brazil</td>\n",
       "      <td>south of minas</td>\n",
       "      <td>Yellow Bourbon</td>\n",
       "      <td>81.67</td>\n",
       "      <td>0</td>\n",
       "    </tr>\n",
       "    <tr>\n",
       "      <th>71</th>\n",
       "      <td>Uganda</td>\n",
       "      <td>kapchorwa</td>\n",
       "      <td>SL14</td>\n",
       "      <td>85.42</td>\n",
       "      <td>1</td>\n",
       "    </tr>\n",
       "    <tr>\n",
       "      <th>600</th>\n",
       "      <td>Mexico</td>\n",
       "      <td>veracruz</td>\n",
       "      <td>Typica</td>\n",
       "      <td>82.75</td>\n",
       "      <td>0</td>\n",
       "    </tr>\n",
       "    <tr>\n",
       "      <th>119</th>\n",
       "      <td>Ethiopia</td>\n",
       "      <td>sidamo</td>\n",
       "      <td>unknown_variety</td>\n",
       "      <td>84.83</td>\n",
       "      <td>0</td>\n",
       "    </tr>\n",
       "    <tr>\n",
       "      <th>545</th>\n",
       "      <td>Uganda</td>\n",
       "      <td>west nile</td>\n",
       "      <td>SL14</td>\n",
       "      <td>82.92</td>\n",
       "      <td>0</td>\n",
       "    </tr>\n",
       "  </tbody>\n",
       "</table>\n",
       "</div>"
      ],
      "text/plain": [
       "                 Country_of_Origin                                   Region  \\\n",
       "32                          Brazil                            vale da grama   \n",
       "841                         Mexico                                  chiapas   \n",
       "325                       Colombia                                    huila   \n",
       "1158                   El Salvador                             cacahuatique   \n",
       "644                         Mexico                                 veracruz   \n",
       "72          United States (Hawaii)                                     kona   \n",
       "1263                     Guatemala                                  oriente   \n",
       "110                       Colombia                                    huila   \n",
       "385   Tanzania, United Republic Of                          karatu northern   \n",
       "220                       Ethiopia  snnprg; kafa; telo woreda; shada kebele   \n",
       "877                         Brazil                           south of minas   \n",
       "71                          Uganda                                kapchorwa   \n",
       "600                         Mexico                                 veracruz   \n",
       "119                       Ethiopia                                   sidamo   \n",
       "545                         Uganda                                west nile   \n",
       "\n",
       "              Variety  Total_Cup_Points  Outstanding  \n",
       "32            Bourbon             86.42            1  \n",
       "841            Catuai             81.83            0  \n",
       "325           Caturra             83.67            0  \n",
       "1158          Bourbon             79.67            0  \n",
       "644   unknown_variety             82.58            0  \n",
       "72      Hawaiian Kona             85.42            1  \n",
       "1263          Bourbon             76.33            0  \n",
       "110           Caturra             84.92            0  \n",
       "385           Bourbon             83.42            0  \n",
       "220             Gesha             84.17            0  \n",
       "877    Yellow Bourbon             81.67            0  \n",
       "71               SL14             85.42            1  \n",
       "600            Typica             82.75            0  \n",
       "119   unknown_variety             84.83            0  \n",
       "545              SL14             82.92            0  "
      ]
     },
     "execution_count": 171,
     "metadata": {},
     "output_type": "execute_result"
    }
   ],
   "source": [
    "df_shuffled.head(15)"
   ]
  },
  {
   "cell_type": "code",
   "execution_count": null,
   "id": "4960184c",
   "metadata": {},
   "outputs": [],
   "source": []
  }
 ],
 "metadata": {
  "kernelspec": {
   "display_name": "Python 3 (ipykernel)",
   "language": "python",
   "name": "python3"
  },
  "language_info": {
   "codemirror_mode": {
    "name": "ipython",
    "version": 3
   },
   "file_extension": ".py",
   "mimetype": "text/x-python",
   "name": "python",
   "nbconvert_exporter": "python",
   "pygments_lexer": "ipython3",
   "version": "3.9.7"
  }
 },
 "nbformat": 4,
 "nbformat_minor": 5
}
