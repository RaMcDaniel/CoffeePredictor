{
 "cells": [
  {
   "cell_type": "markdown",
   "id": "fd7901da",
   "metadata": {},
   "source": [
    "<p style=\"text-align: center; font-weight: bold; font-size:xx-large;\">Coffee Selector</p>"
   ]
  },
  {
   "cell_type": "markdown",
   "id": "5f2c7ad7",
   "metadata": {},
   "source": [
    "<img src=\"Images/coffee_image1.PNG\" />"
   ]
  },
  {
   "cell_type": "markdown",
   "id": "db3e2355",
   "metadata": {},
   "source": [
    "<p style=\"text-align: center; font-weight: bold; font-size:large;\">Do you ever wonder the significance of all those regions printed on bags of coffee?</p>"
   ]
  },
  {
   "cell_type": "markdown",
   "id": "8db275ea",
   "metadata": {},
   "source": [
    "<p style=\"text-align: center; font-weight: bold; font-size:medium;\">Maybe you crave a particularly bold coffee, or prefer low acidity. Could there be a region that suits your unique tastes?</p>  "
   ]
  },
  {
   "cell_type": "code",
   "execution_count": 2,
   "id": "2b5e9335",
   "metadata": {
    "tags": [
     "{",
     "\"tags\":",
     "[",
     "\"hide-input\"",
     "]",
     "}"
    ]
   },
   "outputs": [],
   "source": [
    "import pandas as pd\n",
    "import numpy as np\n",
    "%matplotlib inline\n",
    "import matplotlib.pyplot as plt\n",
    "import sklearn"
   ]
  },
  {
   "cell_type": "code",
   "execution_count": 3,
   "id": "733912ae",
   "metadata": {
    "tags": [
     "{",
     "\"tags\":",
     "[",
     "\"hide-input\"",
     "]",
     "}"
    ]
   },
   "outputs": [],
   "source": [
    "df = pd.read_csv(\"arabica_data_cleaned_filtered.csv\")"
   ]
  },
  {
   "cell_type": "code",
   "execution_count": 6,
   "id": "570cf153",
   "metadata": {},
   "outputs": [
    {
     "data": {
      "text/html": [
       "<div>\n",
       "<style scoped>\n",
       "    .dataframe tbody tr th:only-of-type {\n",
       "        vertical-align: middle;\n",
       "    }\n",
       "\n",
       "    .dataframe tbody tr th {\n",
       "        vertical-align: top;\n",
       "    }\n",
       "\n",
       "    .dataframe thead th {\n",
       "        text-align: right;\n",
       "    }\n",
       "</style>\n",
       "<table border=\"1\" class=\"dataframe\">\n",
       "  <thead>\n",
       "    <tr style=\"text-align: right;\">\n",
       "      <th></th>\n",
       "      <th>Unnamed: 0</th>\n",
       "      <th>Country_of_Origin</th>\n",
       "      <th>Region</th>\n",
       "      <th>Owner_1</th>\n",
       "      <th>Variety</th>\n",
       "      <th>Aroma</th>\n",
       "      <th>Flavor</th>\n",
       "      <th>Aftertaste</th>\n",
       "      <th>Acidity</th>\n",
       "      <th>Body</th>\n",
       "      <th>Balance</th>\n",
       "      <th>Uniformity</th>\n",
       "      <th>Clean.Cup</th>\n",
       "      <th>Sweetness</th>\n",
       "      <th>Total_Cup_Points</th>\n",
       "    </tr>\n",
       "  </thead>\n",
       "  <tbody>\n",
       "    <tr>\n",
       "      <th>0</th>\n",
       "      <td>1</td>\n",
       "      <td>Ethiopia</td>\n",
       "      <td>guji-hambela</td>\n",
       "      <td>metad plc</td>\n",
       "      <td>NaN</td>\n",
       "      <td>8.67</td>\n",
       "      <td>8.83</td>\n",
       "      <td>8.67</td>\n",
       "      <td>8.75</td>\n",
       "      <td>8.50</td>\n",
       "      <td>8.42</td>\n",
       "      <td>10.0</td>\n",
       "      <td>10.0</td>\n",
       "      <td>10.0</td>\n",
       "      <td>90.58</td>\n",
       "    </tr>\n",
       "    <tr>\n",
       "      <th>1</th>\n",
       "      <td>2</td>\n",
       "      <td>Ethiopia</td>\n",
       "      <td>guji-hambela</td>\n",
       "      <td>metad plc</td>\n",
       "      <td>Other</td>\n",
       "      <td>8.75</td>\n",
       "      <td>8.67</td>\n",
       "      <td>8.50</td>\n",
       "      <td>8.58</td>\n",
       "      <td>8.42</td>\n",
       "      <td>8.42</td>\n",
       "      <td>10.0</td>\n",
       "      <td>10.0</td>\n",
       "      <td>10.0</td>\n",
       "      <td>89.92</td>\n",
       "    </tr>\n",
       "    <tr>\n",
       "      <th>2</th>\n",
       "      <td>3</td>\n",
       "      <td>Guatemala</td>\n",
       "      <td>NaN</td>\n",
       "      <td>Grounds for Health Admin</td>\n",
       "      <td>Bourbon</td>\n",
       "      <td>8.42</td>\n",
       "      <td>8.50</td>\n",
       "      <td>8.42</td>\n",
       "      <td>8.42</td>\n",
       "      <td>8.33</td>\n",
       "      <td>8.42</td>\n",
       "      <td>10.0</td>\n",
       "      <td>10.0</td>\n",
       "      <td>10.0</td>\n",
       "      <td>89.75</td>\n",
       "    </tr>\n",
       "    <tr>\n",
       "      <th>3</th>\n",
       "      <td>4</td>\n",
       "      <td>Ethiopia</td>\n",
       "      <td>oromia</td>\n",
       "      <td>Yidnekachew Dabessa</td>\n",
       "      <td>NaN</td>\n",
       "      <td>8.17</td>\n",
       "      <td>8.58</td>\n",
       "      <td>8.42</td>\n",
       "      <td>8.42</td>\n",
       "      <td>8.50</td>\n",
       "      <td>8.25</td>\n",
       "      <td>10.0</td>\n",
       "      <td>10.0</td>\n",
       "      <td>10.0</td>\n",
       "      <td>89.00</td>\n",
       "    </tr>\n",
       "    <tr>\n",
       "      <th>4</th>\n",
       "      <td>5</td>\n",
       "      <td>Ethiopia</td>\n",
       "      <td>guji-hambela</td>\n",
       "      <td>metad plc</td>\n",
       "      <td>Other</td>\n",
       "      <td>8.25</td>\n",
       "      <td>8.50</td>\n",
       "      <td>8.25</td>\n",
       "      <td>8.50</td>\n",
       "      <td>8.42</td>\n",
       "      <td>8.33</td>\n",
       "      <td>10.0</td>\n",
       "      <td>10.0</td>\n",
       "      <td>10.0</td>\n",
       "      <td>88.83</td>\n",
       "    </tr>\n",
       "  </tbody>\n",
       "</table>\n",
       "</div>"
      ],
      "text/plain": [
       "   Unnamed: 0 Country_of_Origin        Region                   Owner_1  \\\n",
       "0           1          Ethiopia  guji-hambela                 metad plc   \n",
       "1           2          Ethiopia  guji-hambela                 metad plc   \n",
       "2           3         Guatemala           NaN  Grounds for Health Admin   \n",
       "3           4          Ethiopia        oromia       Yidnekachew Dabessa   \n",
       "4           5          Ethiopia  guji-hambela                 metad plc   \n",
       "\n",
       "   Variety  Aroma  Flavor  Aftertaste  Acidity  Body  Balance  Uniformity  \\\n",
       "0      NaN   8.67    8.83        8.67     8.75  8.50     8.42        10.0   \n",
       "1    Other   8.75    8.67        8.50     8.58  8.42     8.42        10.0   \n",
       "2  Bourbon   8.42    8.50        8.42     8.42  8.33     8.42        10.0   \n",
       "3      NaN   8.17    8.58        8.42     8.42  8.50     8.25        10.0   \n",
       "4    Other   8.25    8.50        8.25     8.50  8.42     8.33        10.0   \n",
       "\n",
       "   Clean.Cup  Sweetness  Total_Cup_Points  \n",
       "0       10.0       10.0             90.58  \n",
       "1       10.0       10.0             89.92  \n",
       "2       10.0       10.0             89.75  \n",
       "3       10.0       10.0             89.00  \n",
       "4       10.0       10.0             88.83  "
      ]
     },
     "execution_count": 6,
     "metadata": {},
     "output_type": "execute_result"
    }
   ],
   "source": [
    "aspects = [\"aroma\", \"flavor\", \"aftertaste\", \"acidity\", \"body\", \"balance\", \"uniformity\" \"clean_cup\", \"sweetness\", \"total_points\"]"
   ]
  },
  {
   "cell_type": "code",
   "execution_count": null,
   "id": "a65c5f8e",
   "metadata": {},
   "outputs": [],
   "source": []
  }
 ],
 "metadata": {
  "celltoolbar": "Tags",
  "kernelspec": {
   "display_name": "Python 3 (ipykernel)",
   "language": "python",
   "name": "python3"
  },
  "language_info": {
   "codemirror_mode": {
    "name": "ipython",
    "version": 3
   },
   "file_extension": ".py",
   "mimetype": "text/x-python",
   "name": "python",
   "nbconvert_exporter": "python",
   "pygments_lexer": "ipython3",
   "version": "3.9.7"
  }
 },
 "nbformat": 4,
 "nbformat_minor": 5
}
